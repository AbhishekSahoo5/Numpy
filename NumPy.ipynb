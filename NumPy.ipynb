{
 "cells": [
  {
   "cell_type": "markdown",
   "id": "7336138d-f064-4d75-a1b8-b375add82963",
   "metadata": {},
   "source": [
    "NumPy\n",
    "--"
   ]
  },
  {
   "cell_type": "markdown",
   "id": "8afe95ca-2665-4644-8184-423f67bb3a4d",
   "metadata": {},
   "source": [
    "# What is NumPy?\n",
    "- NumPy is the fundamental package for scientific computing in python.\n",
    "- NumPy is a python library that provides a multidimensional array object, various derived objects."
   ]
  },
  {
   "cell_type": "markdown",
   "id": "d3fe25c6-ad74-4da3-b519-026d0dbd0f32",
   "metadata": {},
   "source": [
    "# What is NumPy Array?\n",
    "- An array is a grid of values and it contains information about the raw data, how to locate an element, and how to interpret an element.\n",
    "- 1D Array, 2D Array, 3D Array"
   ]
  },
  {
   "cell_type": "markdown",
   "id": "479e281a-de88-4e34-8e26-07803b6ecc44",
   "metadata": {},
   "source": [
    "# Advantages of using NumPy Arrays Over Python List:\n",
    "- Consumes less memory\n",
    "- Fast as compared to python list\n",
    "- convenient to use."
   ]
  },
  {
   "cell_type": "markdown",
   "id": "46ea5200-3a06-4e90-abb3-fe5ab218b009",
   "metadata": {},
   "source": [
    "# Installation and Import NumPy\n",
    "\n",
    "- Installation --> pip install numpy\n",
    "- Import --> import numpy as np"
   ]
  },
  {
   "cell_type": "code",
   "execution_count": 1,
   "id": "f6e87d38-b32a-4932-a692-4ab83fd4788e",
   "metadata": {},
   "outputs": [],
   "source": [
    "import numpy as np"
   ]
  },
  {
   "cell_type": "code",
   "execution_count": 2,
   "id": "e0f318e0-876b-4ddb-a0a6-e8cf8e05e714",
   "metadata": {},
   "outputs": [
    {
     "name": "stdout",
     "output_type": "stream",
     "text": [
      "[1, 2, 3, 4, 5]\n",
      "<class 'list'>\n"
     ]
    }
   ],
   "source": [
    "# List\n",
    "list=[1,2,3,4,5]\n",
    "print(list)\n",
    "print(type(list))"
   ]
  },
  {
   "cell_type": "code",
   "execution_count": 3,
   "id": "d1afc67c-e392-429a-baee-a75a314155b3",
   "metadata": {},
   "outputs": [
    {
     "name": "stdout",
     "output_type": "stream",
     "text": [
      "[1 2 3 4 5]\n",
      "<class 'numpy.ndarray'>\n"
     ]
    }
   ],
   "source": [
    "# Array\n",
    "arr=np.array([1,2,3,4,5])\n",
    "print(arr)\n",
    "print(type(arr))"
   ]
  },
  {
   "cell_type": "markdown",
   "id": "87d223ea-1aa8-4508-bd18-94a7a00c09a2",
   "metadata": {},
   "source": [
    "# Importance of NumPy in Python\n",
    "- Wide variety of mathematical operations on arrays\n",
    "- It suuplies an enormous library of high level mathematical functions that operate these arrays and matrices.\n",
    "- mathematical, logical, shape manipulation, sorting, selecting, I/O, discrete Fourier transformation, basiic linear algrbra, basic statistical operations, random simulation and much more.\n",
    "  "
   ]
  },
  {
   "cell_type": "markdown",
   "id": "ac3bd402-722c-428f-a08e-6ff5d87892e9",
   "metadata": {},
   "source": [
    "# NumPy vs Python List\n",
    "- Data Types storage(list is multiple data type, but numPy doesnot allow multiple data types)\n",
    "- Importing mopdule(list can use by default no need to import any package, to use array we need to import numpy)\n",
    "- Numerical operation(List is slow in numerical operation, )\n",
    "- Modification capabilities\n",
    "- consumes less memory\n",
    "- Fast as compared to Python list\n",
    "- Convenient to use."
   ]
  },
  {
   "cell_type": "markdown",
   "id": "08beca71-7dda-4b2e-bc52-f23a2aedf6a3",
   "metadata": {},
   "source": [
    "# To find the execution time of a one line code---> %timeit\n",
    "# To find the execution time of a program---> %%timeit"
   ]
  },
  {
   "cell_type": "code",
   "execution_count": 4,
   "id": "3fbce25f-1547-4a2a-88e5-99fda9d25c23",
   "metadata": {},
   "outputs": [
    {
     "name": "stdout",
     "output_type": "stream",
     "text": [
      "739 ns ± 26.6 ns per loop (mean ± std. dev. of 7 runs, 1,000,000 loops each)\n"
     ]
    }
   ],
   "source": [
    "%timeit [j**4 for j in range(1,9)]"
   ]
  },
  {
   "cell_type": "code",
   "execution_count": 5,
   "id": "b024bf12-835f-459f-9b42-c186e47e9da6",
   "metadata": {},
   "outputs": [
    {
     "name": "stdout",
     "output_type": "stream",
     "text": [
      "2.23 μs ± 75.8 ns per loop (mean ± std. dev. of 7 runs, 100,000 loops each)\n"
     ]
    }
   ],
   "source": [
    "%timeit np.arange(1,9)**4"
   ]
  },
  {
   "cell_type": "code",
   "execution_count": null,
   "id": "f62bdcfe-6d0c-48c5-97b8-9357aeb977b1",
   "metadata": {},
   "outputs": [],
   "source": []
  },
  {
   "cell_type": "code",
   "execution_count": null,
   "id": "ded806b2-0cee-48db-9fc2-833647d3afad",
   "metadata": {},
   "outputs": [],
   "source": []
  },
  {
   "cell_type": "markdown",
   "id": "1b68ee1f-190f-4032-941c-22652c83e5d5",
   "metadata": {},
   "source": [
    "NumPy Array Creation\n",
    "--"
   ]
  },
  {
   "cell_type": "code",
   "execution_count": 6,
   "id": "7ce71b80-a961-4eb3-b928-2b9a768426ab",
   "metadata": {},
   "outputs": [
    {
     "name": "stdout",
     "output_type": "stream",
     "text": [
      "[1 2 3 4 5]\n",
      "<class 'numpy.ndarray'>\n"
     ]
    }
   ],
   "source": [
    "x=[1,2,3,4,5]\n",
    "a=np.array(x)\n",
    "print(a)\n",
    "print(type(a))"
   ]
  },
  {
   "cell_type": "code",
   "execution_count": 7,
   "id": "c0ac2cce-50b3-4319-b7c5-92829e73528c",
   "metadata": {},
   "outputs": [
    {
     "name": "stdout",
     "output_type": "stream",
     "text": [
      "[1, 2, 3, 4]\n",
      "[1 2 3 4]\n"
     ]
    }
   ],
   "source": [
    "x=[]\n",
    "for i in range(1,5):\n",
    "    x.append(i)\n",
    "print(x)\n",
    "a=np.array(x)\n",
    "print(a)"
   ]
  },
  {
   "cell_type": "markdown",
   "id": "33ec0a7e-24bf-45bc-8c51-a9919a9d4b95",
   "metadata": {},
   "source": [
    "# Dimensions in Arrays\n",
    "- 1-D array\n",
    "- 2-D array\n",
    "- 3-D array\n",
    "- Higher Dimensional Array"
   ]
  },
  {
   "cell_type": "markdown",
   "id": "532c8757-d1ff-4c96-9978-aae085bd90a4",
   "metadata": {},
   "source": [
    "To check dimensions of the array(ndim)\n",
    "--"
   ]
  },
  {
   "cell_type": "code",
   "execution_count": 8,
   "id": "495362bd-a7be-43b9-9f30-7e746819532a",
   "metadata": {},
   "outputs": [
    {
     "name": "stdout",
     "output_type": "stream",
     "text": [
      "[1 2 3 4 5 6 7 8 9]\n",
      "1\n"
     ]
    }
   ],
   "source": [
    "arr=np.array([1,2,3,4,5,6,7,8,9])\n",
    "print(arr)\n",
    "print(arr.ndim)"
   ]
  },
  {
   "cell_type": "code",
   "execution_count": 9,
   "id": "9d30fa0c-8a69-477b-9baf-fe4520a7faf5",
   "metadata": {},
   "outputs": [
    {
     "name": "stdout",
     "output_type": "stream",
     "text": [
      "[[1 2 3 4]\n",
      " [5 6 7 8]]\n",
      "2\n"
     ]
    }
   ],
   "source": [
    "arr2=np.array([[1,2,3,4],[5,6,7,8]])\n",
    "print(arr2)\n",
    "print(arr2.ndim)"
   ]
  },
  {
   "cell_type": "markdown",
   "id": "df97c13f-3d38-4ba5-8340-8b7369f57331",
   "metadata": {},
   "source": [
    "# To set the dimension of the array(ndmin)"
   ]
  },
  {
   "cell_type": "code",
   "execution_count": 10,
   "id": "212c7249-caf2-4ec2-bbe4-cef2f9d15d68",
   "metadata": {},
   "outputs": [
    {
     "name": "stdout",
     "output_type": "stream",
     "text": [
      "[[[[[[[[[[1 2 3 4]]]]]]]]]]\n",
      "10\n"
     ]
    }
   ],
   "source": [
    "arrn=np.array([1,2,3,4],ndmin=10)\n",
    "print(arrn)\n",
    "print(arrn.ndim)"
   ]
  },
  {
   "cell_type": "markdown",
   "id": "3029d2b7-29f1-4734-8930-d69ab5379ff5",
   "metadata": {},
   "source": [
    "# Special NumPy Array\n",
    "- Array filled with 0's\n",
    "- Array filled with 1's\n",
    "- Create an empty array\n",
    "- An array with a range of elements\n",
    "- Array diagonal element filled with 1's\n",
    "- Create an array with values that are spaced linearly in a specified interval"
   ]
  },
  {
   "cell_type": "markdown",
   "id": "c7f754ee-adb7-473b-bdb5-b466bb17f2ad",
   "metadata": {},
   "source": [
    "# Array filled with 0's"
   ]
  },
  {
   "cell_type": "code",
   "execution_count": 11,
   "id": "68b39e97-4835-491e-ad4a-ffc26d10f045",
   "metadata": {},
   "outputs": [
    {
     "name": "stdout",
     "output_type": "stream",
     "text": [
      "[0. 0. 0. 0. 0. 0. 0. 0. 0. 0.]\n",
      "float64\n"
     ]
    }
   ],
   "source": [
    "# 1D array\n",
    "ar_zero=np.zeros(10)\n",
    "print(ar_zero)\n",
    "print(ar_zero.dtype)"
   ]
  },
  {
   "cell_type": "code",
   "execution_count": 12,
   "id": "e04977f0-4aad-4370-8475-afeec3ee6c1b",
   "metadata": {},
   "outputs": [
    {
     "name": "stdout",
     "output_type": "stream",
     "text": [
      "[[0. 0. 0. 0. 0.]\n",
      " [0. 0. 0. 0. 0.]\n",
      " [0. 0. 0. 0. 0.]\n",
      " [0. 0. 0. 0. 0.]\n",
      " [0. 0. 0. 0. 0.]]\n"
     ]
    }
   ],
   "source": [
    "#2D array\n",
    "ar_zero=np.zeros((5,5))\n",
    "print(ar_zero)"
   ]
  },
  {
   "cell_type": "markdown",
   "id": "6dda4950-aa31-441f-aa60-3d972fb0a8e9",
   "metadata": {},
   "source": [
    "# Array filled with 1's"
   ]
  },
  {
   "cell_type": "code",
   "execution_count": 13,
   "id": "1f0a650f-e9b6-4756-8457-3930be08bc76",
   "metadata": {},
   "outputs": [
    {
     "name": "stdout",
     "output_type": "stream",
     "text": [
      "[1. 1. 1. 1.]\n"
     ]
    }
   ],
   "source": [
    "ar_one=np.ones(4)\n",
    "print(ar_one)"
   ]
  },
  {
   "cell_type": "code",
   "execution_count": 14,
   "id": "7210a5c3-64ba-4ad4-b37f-e6bade09e17f",
   "metadata": {},
   "outputs": [
    {
     "name": "stdout",
     "output_type": "stream",
     "text": [
      "[[1. 1. 1. 1.]\n",
      " [1. 1. 1. 1.]\n",
      " [1. 1. 1. 1.]]\n"
     ]
    }
   ],
   "source": [
    "ar_one=np.ones((3,4))\n",
    "print(ar_one)"
   ]
  },
  {
   "cell_type": "markdown",
   "id": "ef029f57-25d5-4fc5-8907-fcf334c39e4e",
   "metadata": {},
   "source": [
    "# Create an empty array"
   ]
  },
  {
   "cell_type": "code",
   "execution_count": 15,
   "id": "508a8d96-4997-455e-8cb2-6b77b9367982",
   "metadata": {},
   "outputs": [
    {
     "name": "stdout",
     "output_type": "stream",
     "text": [
      "[-6.95319424e-310  1.39755179e-242  7.14798568e-312  7.14798568e-312\n",
      "  5.43472210e-323  9.88131292e-324  0.00000000e+000]\n"
     ]
    }
   ],
   "source": [
    "ar_empty=np.empty(7)\n",
    "print(ar_empty)       #print the previous memory"
   ]
  },
  {
   "cell_type": "markdown",
   "id": "caebf567-fd69-4a23-94dd-651f2e97adba",
   "metadata": {},
   "source": [
    "# An array with a range of elements"
   ]
  },
  {
   "cell_type": "code",
   "execution_count": 16,
   "id": "b12c6a52-3ac6-408e-a21d-3527953ec3a7",
   "metadata": {},
   "outputs": [
    {
     "name": "stdout",
     "output_type": "stream",
     "text": [
      "[ 0  1  2  3  4  5  6  7  8  9 10 11 12 13 14 15 16 17 18]\n"
     ]
    }
   ],
   "source": [
    "ar_ran=np.arange(19)\n",
    "print(ar_ran)"
   ]
  },
  {
   "cell_type": "markdown",
   "id": "03dd0884-9da6-45d9-9ae2-7e04232dd7c4",
   "metadata": {},
   "source": [
    "# Array diagonal element filled with 1's"
   ]
  },
  {
   "cell_type": "code",
   "execution_count": 17,
   "id": "6078799b-e172-4017-a828-344d17110cba",
   "metadata": {},
   "outputs": [
    {
     "name": "stdout",
     "output_type": "stream",
     "text": [
      "[[1. 0. 0.]\n",
      " [0. 1. 0.]\n",
      " [0. 0. 1.]]\n"
     ]
    }
   ],
   "source": [
    "ar_dig=np.eye(3)\n",
    "print(ar_dig)"
   ]
  },
  {
   "cell_type": "markdown",
   "id": "0453975f-d350-42de-b252-859bf7ca231f",
   "metadata": {},
   "source": [
    "# Create an array with values that are spaced linearly in a specified interval"
   ]
  },
  {
   "cell_type": "code",
   "execution_count": 18,
   "id": "23158d33-f98f-4981-8af8-09bb3740bbdb",
   "metadata": {},
   "outputs": [
    {
     "name": "stdout",
     "output_type": "stream",
     "text": [
      "[ 0.  5. 10. 15. 20.]\n"
     ]
    }
   ],
   "source": [
    "ar_lin=np.linspace(0,20,num=5)\n",
    "print(ar_lin)"
   ]
  },
  {
   "cell_type": "code",
   "execution_count": null,
   "id": "bde0d656-a57a-4734-b093-44e91d905495",
   "metadata": {},
   "outputs": [],
   "source": []
  },
  {
   "cell_type": "code",
   "execution_count": null,
   "id": "3c16d9e0-236b-46f1-8343-3901836dfe4b",
   "metadata": {},
   "outputs": [],
   "source": []
  },
  {
   "cell_type": "markdown",
   "id": "bbfd22bd-acaa-49d6-9e42-966eb915ea01",
   "metadata": {},
   "source": [
    "# Creating NumPy Arrays with Random Number\n",
    "- rand(): The function is used to generate a random value between 0 to 1.\n",
    "- randn(): The function is used to generate a random value close to zero(both +ve and -ve).\n",
    "- ranf(): the function for doing random sampling in numpy. It returns an array of specified shape and fills it with random floats in the half-open interval [0.0, 1.0)\n",
    "- randint(): the function is used to generate a random number between a given range.\n",
    "  "
   ]
  },
  {
   "cell_type": "markdown",
   "id": "12020e67-6150-43bc-9c92-fd8c9d6cc179",
   "metadata": {},
   "source": [
    "# rand()"
   ]
  },
  {
   "cell_type": "code",
   "execution_count": 19,
   "id": "6f92eb47-9901-400d-b3f4-24485185d426",
   "metadata": {},
   "outputs": [
    {
     "name": "stdout",
     "output_type": "stream",
     "text": [
      "[0.02701759 0.88268256 0.34072209 0.45291165 0.29885795]\n",
      "float64\n"
     ]
    }
   ],
   "source": [
    "arr=np.random.rand(5)\n",
    "print(arr)\n",
    "print(arr.dtype)"
   ]
  },
  {
   "cell_type": "code",
   "execution_count": 20,
   "id": "357cad88-7610-4406-a5b2-f47056620d2d",
   "metadata": {},
   "outputs": [
    {
     "name": "stdout",
     "output_type": "stream",
     "text": [
      "[[0.74782469 0.07751861 0.49463228 0.07884602 0.61728025]\n",
      " [0.50441487 0.69711018 0.43707137 0.3708257  0.18242145]\n",
      " [0.05317428 0.03175347 0.48098857 0.70809865 0.58449672]]\n"
     ]
    }
   ],
   "source": [
    "var1=np.random.rand(3,5)\n",
    "print(var1)"
   ]
  },
  {
   "cell_type": "markdown",
   "id": "adad6109-559e-4f6c-81d2-07159334dfda",
   "metadata": {},
   "source": [
    "randn()\n",
    "--"
   ]
  },
  {
   "cell_type": "code",
   "execution_count": 21,
   "id": "f1523641-076a-4f8f-a526-de80bad83a4d",
   "metadata": {},
   "outputs": [
    {
     "name": "stdout",
     "output_type": "stream",
     "text": [
      "[ 1.03425661 -0.33818052 -1.21827582  0.37213114 -1.35072432  1.39004952\n",
      "  1.39375237  0.95483543  0.02275031  0.22065498]\n"
     ]
    }
   ],
   "source": [
    "arr2=np.random.randn(10)\n",
    "print(arr2)"
   ]
  },
  {
   "cell_type": "markdown",
   "id": "d5cc7b7b-b76a-4290-977d-f9686996f4c2",
   "metadata": {},
   "source": [
    "# ranf()"
   ]
  },
  {
   "cell_type": "code",
   "execution_count": 22,
   "id": "9aa12a6b-7262-43ab-aaf5-762322cb7525",
   "metadata": {},
   "outputs": [
    {
     "name": "stdout",
     "output_type": "stream",
     "text": [
      "[0.55510556 0.09884566 0.48037525 0.2241685  0.62536366 0.05518026\n",
      " 0.12412534 0.11316556 0.50026156 0.01930634]\n"
     ]
    }
   ],
   "source": [
    "arr3=np.random.ranf(10)\n",
    "print(arr3)"
   ]
  },
  {
   "cell_type": "markdown",
   "id": "8a713e43-925b-40e5-b2e3-0904f35384d7",
   "metadata": {},
   "source": [
    "# randint(min,max,total_no)"
   ]
  },
  {
   "cell_type": "code",
   "execution_count": 23,
   "id": "68ddc3b7-e02d-4b89-9732-1e009099f1f6",
   "metadata": {},
   "outputs": [
    {
     "name": "stdout",
     "output_type": "stream",
     "text": [
      "[4 3 3 3 2 1 1 3 3 4]\n"
     ]
    }
   ],
   "source": [
    "arr3=np.random.randint(1,5,10)\n",
    "print(arr3)"
   ]
  },
  {
   "cell_type": "code",
   "execution_count": null,
   "id": "5006703a-5b77-4af5-8b8c-32f824fc6e59",
   "metadata": {},
   "outputs": [],
   "source": []
  },
  {
   "cell_type": "code",
   "execution_count": null,
   "id": "d9749b3a-f3ab-426b-9fbb-3318fea47180",
   "metadata": {},
   "outputs": [],
   "source": []
  },
  {
   "cell_type": "markdown",
   "id": "fb471447-4373-4180-aee7-924702bff71c",
   "metadata": {},
   "source": [
    "# NumPY - Data Types\n",
    "- bool_  \n",
    "- int_    \n",
    "- intc    \n",
    "- intp    \n",
    "- int8\n",
    "- int16\n",
    "- int32\n",
    "- int64\n",
    "- uint8\n",
    "- uint16\n",
    "- uint32\n",
    "- uint64\n",
    "- float_\n",
    "- float16\n",
    "- float32\n",
    "- float64\n",
    "- complex_\n",
    "- complex64\n",
    "- complex128"
   ]
  },
  {
   "cell_type": "markdown",
   "id": "addf5d71-21d7-45b7-8ebd-24df63963ddf",
   "metadata": {},
   "source": [
    "# How to identify data type(var.dtype)"
   ]
  },
  {
   "cell_type": "code",
   "execution_count": 24,
   "id": "56107f91-71d2-48b1-9381-9ed46c325363",
   "metadata": {},
   "outputs": [
    {
     "name": "stdout",
     "output_type": "stream",
     "text": [
      "Data Type:  int32\n"
     ]
    }
   ],
   "source": [
    "var=np.array([1,2,3,4])\n",
    "print(\"Data Type: \",var.dtype)"
   ]
  },
  {
   "cell_type": "code",
   "execution_count": 25,
   "id": "79665118-62d7-4412-8c90-0feeb4a4279d",
   "metadata": {},
   "outputs": [
    {
     "name": "stdout",
     "output_type": "stream",
     "text": [
      "Data Type:  float64\n"
     ]
    }
   ],
   "source": [
    "var=np.array([1.2,2.3,3.4,4.5])\n",
    "print(\"Data Type: \",var.dtype)"
   ]
  },
  {
   "cell_type": "code",
   "execution_count": 26,
   "id": "3d921305-a747-450c-b6fb-d9be08545702",
   "metadata": {},
   "outputs": [
    {
     "name": "stdout",
     "output_type": "stream",
     "text": [
      "Data Type:  <U1\n"
     ]
    }
   ],
   "source": [
    "var=np.array([\"A\",\"B\",\"C\",\"D\"])\n",
    "print(\"Data Type: \",var.dtype)"
   ]
  },
  {
   "cell_type": "code",
   "execution_count": 27,
   "id": "12b7343c-4377-404c-b7c3-988d61f886de",
   "metadata": {},
   "outputs": [
    {
     "name": "stdout",
     "output_type": "stream",
     "text": [
      "Data Type:  <U11\n"
     ]
    }
   ],
   "source": [
    "var=np.array([\"A\",\"B\",\"C\",\"D\",1,2,3,4])\n",
    "print(\"Data Type: \",var.dtype)"
   ]
  },
  {
   "cell_type": "markdown",
   "id": "18131a23-2a4a-4623-8f33-eef55cb71ff2",
   "metadata": {},
   "source": [
    "# List of characters that are used to represent dtype in Numpy\n",
    "- i-integer\n",
    "- b-boolean\n",
    "- u-unsigned integer\n",
    "- f-float\n",
    "- c-complex float\n",
    "- m-timedelta\n",
    "- M-datatime\n",
    "- O-object\n",
    "- S-string\n",
    "- U-Unicode string\n",
    "- V-the fixed chunk of memory for other types(void)"
   ]
  },
  {
   "cell_type": "code",
   "execution_count": 28,
   "id": "a9010fde-0779-46fb-a734-0b3c55693ac0",
   "metadata": {},
   "outputs": [
    {
     "name": "stdout",
     "output_type": "stream",
     "text": [
      "[b'1' b'2' b'3' b'4']\n",
      "[1 2 3 4]\n"
     ]
    }
   ],
   "source": [
    "x=np.array([1,2,3,4],dtype=\"S\")\n",
    "print(x)\n",
    "\n",
    "x=np.array(x,dtype=\"i\")\n",
    "print(x)"
   ]
  },
  {
   "cell_type": "code",
   "execution_count": 29,
   "id": "9e2b0aa2-5b70-4abd-bfca-408334c4b43f",
   "metadata": {},
   "outputs": [
    {
     "name": "stdout",
     "output_type": "stream",
     "text": [
      "[1. 2. 3. 4.]\n"
     ]
    }
   ],
   "source": [
    "x3=np.array([1,2,3,4])\n",
    "new=x3.astype(float)\n",
    "print(new)"
   ]
  },
  {
   "cell_type": "code",
   "execution_count": 30,
   "id": "8cd9646f-f3a7-4481-b0f3-9358a5b26b47",
   "metadata": {},
   "outputs": [
    {
     "name": "stdout",
     "output_type": "stream",
     "text": [
      "[b'1' b'2' b'3' b'4']\n"
     ]
    }
   ],
   "source": [
    "x3=np.array([1,2,3,4])\n",
    "new=x3.astype('S')\n",
    "print(new)"
   ]
  },
  {
   "cell_type": "code",
   "execution_count": null,
   "id": "67b7b858-059e-4e8e-ab67-3c2f1bbc048c",
   "metadata": {},
   "outputs": [],
   "source": []
  },
  {
   "cell_type": "markdown",
   "id": "0591e06a-e736-47aa-8b6b-acf834c6efa1",
   "metadata": {},
   "source": [
    "# Arithmetic Operations in array"
   ]
  },
  {
   "cell_type": "code",
   "execution_count": 31,
   "id": "cdddcfba-91c2-43d0-b62d-045d267688bf",
   "metadata": {},
   "outputs": [
    {
     "name": "stdout",
     "output_type": "stream",
     "text": [
      "[4 5 6 7 8]\n"
     ]
    }
   ],
   "source": [
    "arr1=np.array([1,2,3,4,5])\n",
    "var_add=arr1+3\n",
    "print(var_add)"
   ]
  },
  {
   "cell_type": "code",
   "execution_count": 32,
   "id": "b59051d4-b428-42f3-9ae2-2cded5bff4df",
   "metadata": {},
   "outputs": [
    {
     "name": "stdout",
     "output_type": "stream",
     "text": [
      "[ 2  4  6  8 10]\n",
      "[0 0 0 0 0]\n",
      "[ 1  4  9 16 25]\n",
      "[1. 1. 1. 1. 1.]\n",
      "[0 0 0 0 0]\n",
      "[   1    4   27  256 3125]\n",
      "[1 0 0 0 0]\n"
     ]
    }
   ],
   "source": [
    "arr1=np.array([1,2,3,4,5])\n",
    "arr2=np.array([1,2,3,4,5])\n",
    "\n",
    "varadd=np.add(arr1,arr2)\n",
    "print(varadd)\n",
    "\n",
    "varadd=np.subtract(arr1,arr2)\n",
    "print(varadd)\n",
    "\n",
    "varadd=np.multiply(arr1,arr2)\n",
    "print(varadd)\n",
    "\n",
    "varadd=np.divide(arr1,arr2)\n",
    "print(varadd)\n",
    "\n",
    "varadd=np.mod(arr1,arr2)\n",
    "print(varadd)\n",
    "\n",
    "varadd=np.power(arr1,arr2)\n",
    "print(varadd)\n",
    "\n",
    "varadd=np.reciprocal(arr1,arr2)\n",
    "print(varadd)"
   ]
  },
  {
   "cell_type": "code",
   "execution_count": 33,
   "id": "9b1c57f4-123f-443f-9de1-0041401dfcb4",
   "metadata": {},
   "outputs": [
    {
     "name": "stdout",
     "output_type": "stream",
     "text": [
      "min 1\n",
      "max 9\n",
      "argmin 0\n",
      "argmax 8\n",
      "sqrt [1.         1.41421356 1.73205081 2.         2.23606798 2.44948974\n",
      " 2.64575131 2.82842712 3.        ]\n",
      "cos [ 0.54030231 -0.41614684 -0.9899925  -0.65364362  0.28366219  0.96017029\n",
      "  0.75390225 -0.14550003 -0.91113026]\n",
      "cumsum [ 1  3  6 10 15 21 28 36 45]\n"
     ]
    }
   ],
   "source": [
    "x=np.array([1,2,3,4,5,6,7,8,9])\n",
    "\n",
    "print(\"min\",np.min(x))\n",
    "print(\"max\",np.max(x))\n",
    "print(\"argmin\",np.argmin(x))\n",
    "print(\"argmax\",np.argmax(x))\n",
    "print(\"sqrt\",np.sqrt(x))\n",
    "print(\"cos\",np.cos(x))\n",
    "print(\"cumsum\",np.cumsum(x))"
   ]
  },
  {
   "cell_type": "markdown",
   "id": "b448810c-1a73-49ed-bce6-b84de912f936",
   "metadata": {},
   "source": [
    "# Shape and Reshape in Numpy Arrays"
   ]
  },
  {
   "cell_type": "markdown",
   "id": "1962dda4-364b-4848-8b71-052fdde042db",
   "metadata": {},
   "source": [
    "## Shape"
   ]
  },
  {
   "cell_type": "code",
   "execution_count": 34,
   "id": "7ada0170-ca53-4cae-8cc7-7ef04861a085",
   "metadata": {},
   "outputs": [
    {
     "name": "stdout",
     "output_type": "stream",
     "text": [
      "[[1 2 3]\n",
      " [4 5 6]]\n",
      "(2, 3)\n"
     ]
    }
   ],
   "source": [
    "var=np.array([[1,2,3],[4,5,6]])\n",
    "print(var)\n",
    "print(var.shape)"
   ]
  },
  {
   "cell_type": "code",
   "execution_count": 35,
   "id": "0301fbe2-7118-4c63-b8ff-e52e7a02bcff",
   "metadata": {},
   "outputs": [
    {
     "name": "stdout",
     "output_type": "stream",
     "text": [
      "[[[[[1 2 3 4 5]]]]]\n"
     ]
    }
   ],
   "source": [
    "var1=np.array([1,2,3,4,5], ndmin=5)\n",
    "print(var1)"
   ]
  },
  {
   "cell_type": "code",
   "execution_count": 36,
   "id": "85740a6f-1a6c-4f4d-84a2-bc87e5086e6d",
   "metadata": {},
   "outputs": [
    {
     "name": "stdout",
     "output_type": "stream",
     "text": [
      "(1, 1, 1, 1, 5)\n"
     ]
    }
   ],
   "source": [
    "print(var1.shape)"
   ]
  },
  {
   "cell_type": "markdown",
   "id": "3cc3ab61-800f-4f46-b879-a94356424633",
   "metadata": {},
   "source": [
    "## Reshape"
   ]
  },
  {
   "cell_type": "code",
   "execution_count": 37,
   "id": "07723f77-1891-4463-b69a-b2408b9d809c",
   "metadata": {},
   "outputs": [
    {
     "name": "stdout",
     "output_type": "stream",
     "text": [
      "[[1 2]\n",
      " [3 4]\n",
      " [5 6]]\n",
      "[[1 2 3 4 5 6]]\n",
      "2\n",
      "[1 2 3 4 5 6]\n",
      "1\n"
     ]
    }
   ],
   "source": [
    "var2=np.array([1,2,3,4,5,6])\n",
    "x=var2.reshape(3,2)\n",
    "print(x)\n",
    "y=var2.reshape(1,6)\n",
    "print(y)\n",
    "print(y.ndim)\n",
    "\n",
    "z=x.reshape(-1)\n",
    "print(z)\n",
    "print(z.ndim)"
   ]
  },
  {
   "cell_type": "markdown",
   "id": "9b3a3b77-8fd8-4361-ae70-3416943bf9cc",
   "metadata": {},
   "source": [
    "# Broadcasting NumPy Array"
   ]
  },
  {
   "cell_type": "code",
   "execution_count": 38,
   "id": "95391bd2-0a21-4d45-9384-766b04d6e225",
   "metadata": {},
   "outputs": [
    {
     "ename": "ValueError",
     "evalue": "operands could not be broadcast together with shapes (4,) (3,) ",
     "output_type": "error",
     "traceback": [
      "\u001b[1;31m---------------------------------------------------------------------------\u001b[0m",
      "\u001b[1;31mValueError\u001b[0m                                Traceback (most recent call last)",
      "Cell \u001b[1;32mIn[38], line 3\u001b[0m\n\u001b[0;32m      1\u001b[0m var1\u001b[38;5;241m=\u001b[39mnp\u001b[38;5;241m.\u001b[39marray([\u001b[38;5;241m1\u001b[39m,\u001b[38;5;241m2\u001b[39m,\u001b[38;5;241m3\u001b[39m,\u001b[38;5;241m4\u001b[39m])\n\u001b[0;32m      2\u001b[0m var2\u001b[38;5;241m=\u001b[39mnp\u001b[38;5;241m.\u001b[39marray([\u001b[38;5;241m1\u001b[39m,\u001b[38;5;241m2\u001b[39m,\u001b[38;5;241m3\u001b[39m])\n\u001b[1;32m----> 3\u001b[0m var3\u001b[38;5;241m=\u001b[39m\u001b[43mvar1\u001b[49m\u001b[38;5;241;43m+\u001b[39;49m\u001b[43mvar2\u001b[49m\n\u001b[0;32m      4\u001b[0m \u001b[38;5;28mprint\u001b[39m(var3)\n\u001b[0;32m      6\u001b[0m \u001b[38;5;66;03m# The dimensions of both the arays should be same \u001b[39;00m\n",
      "\u001b[1;31mValueError\u001b[0m: operands could not be broadcast together with shapes (4,) (3,) "
     ]
    }
   ],
   "source": [
    "var1=np.array([1,2,3,4])\n",
    "var2=np.array([1,2,3])\n",
    "var3=var1+var2\n",
    "print(var3)\n",
    "\n",
    "# The dimensions of both the arays should be same "
   ]
  },
  {
   "cell_type": "code",
   "execution_count": 150,
   "id": "c77caf05-0224-4f1c-9e04-e5a46845e678",
   "metadata": {},
   "outputs": [
    {
     "name": "stdout",
     "output_type": "stream",
     "text": [
      "[1 2 3]\n",
      "\n",
      "[[1]\n",
      " [2]\n",
      " [3]]\n",
      "[[2 3 4]\n",
      " [3 4 5]\n",
      " [4 5 6]]\n"
     ]
    }
   ],
   "source": [
    "var1=np.array([1,2,3])\n",
    "var2=np.array([1,2,3]).reshape(3,1)\n",
    "print(var1)\n",
    "print()\n",
    "print(var2)\n",
    "\n",
    "print(var1+var2)"
   ]
  },
  {
   "cell_type": "markdown",
   "id": "7afa03d4",
   "metadata": {},
   "source": [
    "# Indexing Numpy Array"
   ]
  },
  {
   "cell_type": "code",
   "execution_count": 41,
   "id": "d1078742",
   "metadata": {},
   "outputs": [
    {
     "name": "stdout",
     "output_type": "stream",
     "text": [
      "7\n",
      "7\n"
     ]
    }
   ],
   "source": [
    "arr=np.array([9,8,7,6])\n",
    "print(arr[2])\n",
    "print(arr[-2])"
   ]
  },
  {
   "cell_type": "code",
   "execution_count": 48,
   "id": "61f80273",
   "metadata": {},
   "outputs": [
    {
     "name": "stdout",
     "output_type": "stream",
     "text": [
      "[[1 2 3 4 5]\n",
      " [1 2 3 4 5]]\n",
      "2\n",
      "4\n"
     ]
    }
   ],
   "source": [
    "arr=np.array([[1,2,3,4,5],[1,2,3,4,5]])\n",
    "print(arr)\n",
    "print(arr.ndim)\n",
    "\n",
    "print(arr[1,3])"
   ]
  },
  {
   "cell_type": "code",
   "execution_count": 52,
   "id": "f747e0ab",
   "metadata": {},
   "outputs": [
    {
     "name": "stdout",
     "output_type": "stream",
     "text": [
      "[[[1 2 3 4 5]\n",
      "  [9 8 7 6 5]]]\n",
      "3\n",
      "[9 8 7 6 5]\n",
      "6\n"
     ]
    }
   ],
   "source": [
    "arr=np.array([[[1,2,3,4,5],[9,8,7,6,5]]])\n",
    "print(arr)\n",
    "print(arr.ndim)\n",
    "\n",
    "print(arr[0,1])\n",
    "print(arr[0,1,3])"
   ]
  },
  {
   "cell_type": "markdown",
   "id": "f5afc55e",
   "metadata": {},
   "source": [
    "# Slicing Numpy Array"
   ]
  },
  {
   "cell_type": "code",
   "execution_count": 58,
   "id": "bc0e332b",
   "metadata": {},
   "outputs": [
    {
     "name": "stdout",
     "output_type": "stream",
     "text": [
      "[1 2 3]\n",
      "[1 2 3 4 5 6 7]\n",
      "[0 1 2 3 4]\n",
      "[0 1 2 3 4 5 6 7]\n",
      "[0 2 4 6]\n",
      "[7 6 5 4 3 2 1 0]\n"
     ]
    }
   ],
   "source": [
    "arr=np.array([0,1,2,3,4,5,6,7])\n",
    "print(arr[1:4])\n",
    "print(arr[1:])\n",
    "print(arr[:5])\n",
    "print(arr[::])\n",
    "print(arr[::2])\n",
    "print(arr[::-1])"
   ]
  },
  {
   "cell_type": "code",
   "execution_count": 61,
   "id": "89d71242",
   "metadata": {},
   "outputs": [
    {
     "name": "stdout",
     "output_type": "stream",
     "text": [
      "[16 15 14 13 12 11]\n",
      "[4 5 6 7 8 9]\n"
     ]
    }
   ],
   "source": [
    "# In 2d Array\n",
    "arr=np.array([[1,2,3,4,5,6],[9,8,7,6,5,4],[11,12,13,14,15,16]])\n",
    "print(arr[2,::-1])\n",
    "print(arr[1,::-1])"
   ]
  },
  {
   "cell_type": "markdown",
   "id": "3244bd51",
   "metadata": {},
   "source": [
    "# Iterating NumPy Array"
   ]
  },
  {
   "cell_type": "code",
   "execution_count": 39,
   "id": "742cf6bf",
   "metadata": {},
   "outputs": [
    {
     "name": "stdout",
     "output_type": "stream",
     "text": [
      "1\n",
      "2\n",
      "3\n",
      "4\n",
      "5\n",
      "6\n"
     ]
    }
   ],
   "source": [
    "arr=np.array([1,2,3,4,5,6])\n",
    "\n",
    "for i in arr:\n",
    "    print(i)"
   ]
  },
  {
   "cell_type": "code",
   "execution_count": 46,
   "id": "bf443d8a",
   "metadata": {},
   "outputs": [
    {
     "name": "stdout",
     "output_type": "stream",
     "text": [
      "2\n",
      "1,2,3,4,5,\n",
      "6,7,8,9,10,\n"
     ]
    }
   ],
   "source": [
    "arr=np.array([[1,2,3,4,5],[6,7,8,9,10]])\n",
    "print(arr.ndim)\n",
    "for i in arr:\n",
    "    for j in i:\n",
    "        print(j,end=\",\")\n",
    "    print()"
   ]
  },
  {
   "cell_type": "code",
   "execution_count": 47,
   "id": "1fdfa122",
   "metadata": {},
   "outputs": [
    {
     "name": "stdout",
     "output_type": "stream",
     "text": [
      "1\n",
      "2\n",
      "3\n",
      "4\n",
      "5\n",
      "6\n",
      "7\n",
      "8\n",
      "9\n",
      "10\n"
     ]
    }
   ],
   "source": [
    "# Without using for loop\n",
    "# use nditer() function\n",
    "\n",
    "arr=np.array([[1,2,3,4,5],[6,7,8,9,10]])\n",
    "for i in np.nditer(arr):\n",
    "    print(i)"
   ]
  },
  {
   "cell_type": "code",
   "execution_count": 48,
   "id": "289d2146",
   "metadata": {},
   "outputs": [
    {
     "name": "stdout",
     "output_type": "stream",
     "text": [
      "((0, 0), 1)\n",
      "((0, 1), 2)\n",
      "((0, 2), 3)\n",
      "((0, 3), 4)\n",
      "((0, 4), 5)\n",
      "((1, 0), 6)\n",
      "((1, 1), 7)\n",
      "((1, 2), 8)\n",
      "((1, 3), 9)\n",
      "((1, 4), 10)\n"
     ]
    }
   ],
   "source": [
    "# To get both index and data ---> ndenumerate(arr)\n",
    "arr=np.array([[1,2,3,4,5],[6,7,8,9,10]])\n",
    "for i in np.ndenumerate(arr):\n",
    "    print(i)"
   ]
  },
  {
   "cell_type": "markdown",
   "id": "9026a9a3",
   "metadata": {},
   "source": [
    "# Copy"
   ]
  },
  {
   "cell_type": "code",
   "execution_count": null,
   "id": "38e15725",
   "metadata": {},
   "outputs": [],
   "source": []
  },
  {
   "cell_type": "markdown",
   "id": "eb12f271",
   "metadata": {},
   "source": []
  },
  {
   "cell_type": "code",
   "execution_count": 54,
   "id": "e6e4b8cc",
   "metadata": {},
   "outputs": [
    {
     "name": "stdout",
     "output_type": "stream",
     "text": [
      "[1 2 3 4]\n",
      "[1 2 3 4]\n"
     ]
    }
   ],
   "source": [
    "arr=np.array([1,2,3,4])\n",
    "print"
   ]
  },
  {
   "cell_type": "code",
   "execution_count": 56,
   "id": "bc2651d5",
   "metadata": {},
   "outputs": [
    {
     "name": "stdout",
     "output_type": "stream",
     "text": [
      "[1 2 3 4]\n",
      "[ 7  8  9 10]\n"
     ]
    }
   ],
   "source": [
    "cp=arr.copy()+6\n",
    "print(arr)\n",
    "print(cp)"
   ]
  },
  {
   "cell_type": "markdown",
   "id": "ad3a42b8",
   "metadata": {},
   "source": []
  },
  {
   "cell_type": "markdown",
   "id": "d99fa6c8",
   "metadata": {},
   "source": [
    "# View"
   ]
  },
  {
   "cell_type": "code",
   "execution_count": 62,
   "id": "f7fd544e",
   "metadata": {},
   "outputs": [
    {
     "name": "stdout",
     "output_type": "stream",
     "text": [
      "[   1    2  100 1000]\n",
      "[   1    2  100 1000]\n"
     ]
    }
   ],
   "source": [
    "arr=np.array([1,2,3,4])\n",
    "vi=arr.view()\n",
    "\n",
    "arr[2]=100\n",
    "vi[3]=1000\n",
    "print(arr)\n",
    "print(vi)"
   ]
  },
  {
   "cell_type": "markdown",
   "id": "544f4333",
   "metadata": {},
   "source": [
    "# Join Array"
   ]
  },
  {
   "cell_type": "code",
   "execution_count": 64,
   "id": "9777da2a",
   "metadata": {},
   "outputs": [
    {
     "name": "stdout",
     "output_type": "stream",
     "text": [
      "[1 2 3 4 5 6 7 8]\n"
     ]
    }
   ],
   "source": [
    "arr1=np.array([1,2,3,4])\n",
    "arr2=np.array([5,6,7,8])\n",
    "\n",
    "arr3=np.concatenate((arr1,arr2))\n",
    "print(arr3)\n"
   ]
  },
  {
   "cell_type": "code",
   "execution_count": 70,
   "id": "ac391eaf",
   "metadata": {},
   "outputs": [
    {
     "name": "stdout",
     "output_type": "stream",
     "text": [
      "[[1 2 3 4 5 6 7 8]\n",
      " [5 6 7 8 1 2 3 4]]\n",
      "\n",
      "[[1 2 3 4]\n",
      " [5 6 7 8]\n",
      " [5 6 7 8]\n",
      " [1 2 3 4]]\n"
     ]
    }
   ],
   "source": [
    "arr1=np.array([[1,2,3,4],[5,6,7,8]])\n",
    "arr2=np.array([[5,6,7,8],[1,2,3,4]])\n",
    "\n",
    "# Add along columns\n",
    "arr3=np.concatenate((arr1,arr2),axis=1)\n",
    "print(arr3)\n",
    "\n",
    "print()\n",
    "\n",
    "# Add along rows\n",
    "arr3=np.concatenate((arr1,arr2),axis=0)\n",
    "print(arr3)"
   ]
  },
  {
   "cell_type": "code",
   "execution_count": 74,
   "id": "3b58b00a",
   "metadata": {},
   "outputs": [
    {
     "name": "stdout",
     "output_type": "stream",
     "text": [
      "[[1 5]\n",
      " [2 6]\n",
      " [3 7]\n",
      " [4 8]]\n",
      "\n",
      "[[1 2 3 4]\n",
      " [5 6 7 8]]\n"
     ]
    }
   ],
   "source": [
    "arr1=np.array([1,2,3,4])\n",
    "arr2=np.array([5,6,7,8])\n",
    "\n",
    "arr3=np.stack((arr1,arr2),axis=1)\n",
    "print(arr3)\n",
    "\n",
    "print()\n",
    "\n",
    "arr3=np.stack((arr1,arr2),axis=0)\n",
    "print(arr3)\n",
    "\n"
   ]
  },
  {
   "cell_type": "code",
   "execution_count": 72,
   "id": "888a0f78",
   "metadata": {},
   "outputs": [
    {
     "name": "stdout",
     "output_type": "stream",
     "text": [
      "[[[1 2 3 4]\n",
      "  [5 6 7 8]]\n",
      "\n",
      " [[5 6 7 8]\n",
      "  [1 2 3 4]]]\n",
      "\n",
      "[[[1 2 3 4]\n",
      "  [5 6 7 8]]\n",
      "\n",
      " [[5 6 7 8]\n",
      "  [1 2 3 4]]]\n"
     ]
    }
   ],
   "source": [
    "arr1=np.array([[1,2,3,4],[5,6,7,8]])\n",
    "arr2=np.array([[5,6,7,8],[1,2,3,4]])\n",
    "\n",
    "# Add along columns\n",
    "arr3=np.stack((arr1,arr2),axis=1)\n",
    "print(arr3)\n",
    "\n",
    "print()\n",
    "\n",
    "# Add along rows\n",
    "arr3=np.stack((arr1,arr2),axis=0)\n",
    "print(arr3)"
   ]
  },
  {
   "cell_type": "code",
   "execution_count": 78,
   "id": "a4977c52",
   "metadata": {},
   "outputs": [
    {
     "name": "stdout",
     "output_type": "stream",
     "text": [
      "[[1 2 3 4]\n",
      " [5 6 7 8]]\n",
      "\n",
      "[[1 5]\n",
      " [2 6]\n",
      " [3 7]\n",
      " [4 8]]\n",
      "\n",
      "[1 2 3 4 5 6 7 8]\n",
      "\n",
      "[[1 2 3 4]\n",
      " [5 6 7 8]]\n",
      "\n",
      "[[[1 5]\n",
      "  [2 6]\n",
      "  [3 7]\n",
      "  [4 8]]]\n"
     ]
    }
   ],
   "source": [
    "arr1=np.array([1,2,3,4])\n",
    "arr2=np.array([5,6,7,8])\n",
    "\n",
    "arr3=np.stack((arr1,arr2),axis=0)\n",
    "arr4=np.stack((arr1,arr2),axis=1)\n",
    "arr5=np.hstack((arr1,arr2))\n",
    "arr6=np.vstack((arr1,arr2))\n",
    "arr7=np.dstack((arr1,arr2))\n",
    "\n",
    "print(arr3)\n",
    "print()\n",
    "print(arr4)\n",
    "print()\n",
    "print(arr5)\n",
    "print()\n",
    "print(arr6)\n",
    "print()\n",
    "print(arr7)"
   ]
  },
  {
   "cell_type": "markdown",
   "id": "77fbe6c8",
   "metadata": {},
   "source": [
    "# Split Array"
   ]
  },
  {
   "cell_type": "code",
   "execution_count": 83,
   "id": "a84e8979",
   "metadata": {},
   "outputs": [
    {
     "name": "stdout",
     "output_type": "stream",
     "text": [
      "[array([1, 2]), array([3, 4]), array([5]), array([6])]\n",
      "<class 'list'>\n"
     ]
    }
   ],
   "source": [
    "arr=np.array([1,2,3,4,5,6])\n",
    "\n",
    "ar=np.array_split(arr,4)\n",
    "print(ar)\n",
    "print(type(ar))"
   ]
  },
  {
   "cell_type": "code",
   "execution_count": 88,
   "id": "c9158a71",
   "metadata": {},
   "outputs": [
    {
     "name": "stdout",
     "output_type": "stream",
     "text": [
      "[array([[1, 2, 3, 4, 5]]), array([[ 6,  7,  8,  9, 10]]), array([], shape=(0, 5), dtype=int32), array([], shape=(0, 5), dtype=int32), array([], shape=(0, 5), dtype=int32), array([], shape=(0, 5), dtype=int32), array([], shape=(0, 5), dtype=int32), array([], shape=(0, 5), dtype=int32), array([], shape=(0, 5), dtype=int32), array([], shape=(0, 5), dtype=int32)]\n"
     ]
    }
   ],
   "source": [
    "arr=np.array([[1,2,3,4,5],[6,7,8,9,10]])\n",
    "ar=np.array_split(arr,10)\n",
    "print(ar)"
   ]
  },
  {
   "cell_type": "markdown",
   "id": "bfb43e85",
   "metadata": {},
   "source": [
    "# search"
   ]
  },
  {
   "cell_type": "code",
   "execution_count": 40,
   "id": "4ec9de58",
   "metadata": {},
   "outputs": [
    {
     "name": "stdout",
     "output_type": "stream",
     "text": [
      "(array([ 1, 11, 12], dtype=int64),)\n"
     ]
    }
   ],
   "source": [
    "arr=np.array([1,2,3,4,5,6,7,6,5,4,3,2,2,1])\n",
    "x=np.where( arr== 2)\n",
    "print(x) "
   ]
  },
  {
   "cell_type": "code",
   "execution_count": 42,
   "id": "975e5d7f",
   "metadata": {},
   "outputs": [
    {
     "name": "stdout",
     "output_type": "stream",
     "text": [
      "(array([ 1,  3,  5,  7,  9, 11, 12], dtype=int64),)\n"
     ]
    }
   ],
   "source": [
    "arr=np.array([1,2,3,4,5,6,7,6,5,4,3,2,2,1])\n",
    "x=np.where( (arr%2)== 0)\n",
    "print(x) "
   ]
  },
  {
   "cell_type": "markdown",
   "id": "cdc78a89",
   "metadata": {},
   "source": [
    "# Search Sorted Array"
   ]
  },
  {
   "cell_type": "code",
   "execution_count": 52,
   "id": "6a892b5d",
   "metadata": {},
   "outputs": [
    {
     "name": "stdout",
     "output_type": "stream",
     "text": [
      "12\n"
     ]
    }
   ],
   "source": [
    "arr=np.array([1,2,3,4,5,6,7,8,9,10,11,23])\n",
    "x=np.searchsorted(arr,100)\n",
    "print(x) "
   ]
  },
  {
   "cell_type": "code",
   "execution_count": 62,
   "id": "746ab934",
   "metadata": {},
   "outputs": [
    {
     "name": "stdout",
     "output_type": "stream",
     "text": [
      "2\n"
     ]
    }
   ],
   "source": [
    "arr=np.array([1,2,3,4,5,6,7,8,9,10,11,23])\n",
    "x=np.searchsorted(arr,3,side=\"left\")\n",
    "print(x)"
   ]
  },
  {
   "cell_type": "code",
   "execution_count": 66,
   "id": "ad5c8df5",
   "metadata": {},
   "outputs": [
    {
     "name": "stdout",
     "output_type": "stream",
     "text": [
      "[4 5 5]\n"
     ]
    }
   ],
   "source": [
    "arr=np.array([1,2,3,4,5,11,23])\n",
    "x=np.searchsorted(arr,[5,6,7],side=\"left\")\n",
    "print(x)"
   ]
  },
  {
   "cell_type": "markdown",
   "id": "01f96103",
   "metadata": {},
   "source": [
    "# Sort"
   ]
  },
  {
   "cell_type": "code",
   "execution_count": 67,
   "id": "1f29186f",
   "metadata": {},
   "outputs": [
    {
     "name": "stdout",
     "output_type": "stream",
     "text": [
      "[1 2 3 5 6 7 8 9]\n"
     ]
    }
   ],
   "source": [
    "arr=np.array([5,6,7,2,3,8,9,1])\n",
    "print(np.sort(arr))"
   ]
  },
  {
   "cell_type": "markdown",
   "id": "c03641a2",
   "metadata": {},
   "source": [
    "# Filter"
   ]
  },
  {
   "cell_type": "code",
   "execution_count": 69,
   "id": "1e6fd96d",
   "metadata": {},
   "outputs": [
    {
     "name": "stdout",
     "output_type": "stream",
     "text": [
      "['a' 'd']\n"
     ]
    }
   ],
   "source": [
    "arr=np.array([\"a\",\"s\",\"d\",\"f\"])\n",
    "f=[True,False,True,False]\n",
    "new=arr[f]\n",
    "print(new)"
   ]
  },
  {
   "cell_type": "markdown",
   "id": "5af6e732",
   "metadata": {},
   "source": [
    "# Insert"
   ]
  },
  {
   "cell_type": "code",
   "execution_count": 74,
   "id": "90b15bf1",
   "metadata": {},
   "outputs": [
    {
     "name": "stdout",
     "output_type": "stream",
     "text": [
      "[1 2 3 4 5]\n",
      "[  1   2   3 100   4   5]\n",
      "[99  1  2 99  3  4  5]\n"
     ]
    }
   ],
   "source": [
    "arr=np.array([1,2,3,4,5])\n",
    "print(arr)\n",
    "\n",
    "arr2=np.insert(arr,3,100)\n",
    "print(arr2)\n",
    "\n",
    "arr3=np.insert(arr,(0,2),99)\n",
    "print(arr3)"
   ]
  },
  {
   "cell_type": "code",
   "execution_count": null,
   "id": "61bca8a8",
   "metadata": {},
   "outputs": [],
   "source": [
    "\n"
   ]
  }
 ],
 "metadata": {
  "kernelspec": {
   "display_name": "Python 3",
   "language": "python",
   "name": "python3"
  },
  "language_info": {
   "codemirror_mode": {
    "name": "ipython",
    "version": 3
   },
   "file_extension": ".py",
   "mimetype": "text/x-python",
   "name": "python",
   "nbconvert_exporter": "python",
   "pygments_lexer": "ipython3",
   "version": "3.11.5"
  }
 },
 "nbformat": 4,
 "nbformat_minor": 5
}
