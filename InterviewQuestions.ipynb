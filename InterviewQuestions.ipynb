{
 "cells": [
  {
   "cell_type": "code",
   "execution_count": 1,
   "id": "b18dfcbe-cf3a-4a3f-8cff-ceb03f45659d",
   "metadata": {},
   "outputs": [],
   "source": [
    "import numpy as np"
   ]
  },
  {
   "cell_type": "markdown",
   "id": "729ead75-81f2-46ec-b86b-890f487d03fe",
   "metadata": {},
   "source": [
    "# Q1) How to create an empty and full NumPy array?"
   ]
  },
  {
   "cell_type": "markdown",
   "id": "67f4e0b4-cf70-4c7b-90d8-a99c973fc3ab",
   "metadata": {},
   "source": [
    "# Creating an Empty Numpy Array\n",
    "- To create an empty NumPy array, we can use the numpy.empty() function.\n",
    "- The empty() function in NumPy is used to create an empty array with a specified shape.\n",
    "- An empty NumPy array is an array that is initialized with arbitrary values, and its shape is determined by the user.\n",
    "- An array in NumPy that is empty has random values as its initial values, and the user specifies how it should be shaped."
   ]
  },
  {
   "cell_type": "code",
   "execution_count": 2,
   "id": "da4c597e-5777-416a-9ee5-3045c3a792ad",
   "metadata": {},
   "outputs": [
    {
     "name": "stdout",
     "output_type": "stream",
     "text": [
      "[[5.90044465e-312 5.90044465e-312 5.90044465e-312]\n",
      " [5.90044465e-312 5.90044465e-312 5.90044465e-312]]\n"
     ]
    }
   ],
   "source": [
    "emptyArray=np.empty((2,3))\n",
    "print(emptyArray)"
   ]
  },
  {
   "cell_type": "markdown",
   "id": "1ae9fe13-bac6-40fe-877b-28be1f533cd0",
   "metadata": {},
   "source": [
    "# Create a Full Numpy Array\n",
    "- To create a full NumPy array, you can use the numpy.full() function.\n",
    "- The full() function in NumPy creates an array of a given shape and fills it with a specified value.\n",
    "- A full NumPy array is an array where all the elements have the same predefined value.\n",
    "- This is useful when you want to initialize an array with a specific value."
   ]
  },
  {
   "cell_type": "code",
   "execution_count": 3,
   "id": "74830eca-69e2-4021-aa43-cf1d702d8bd9",
   "metadata": {},
   "outputs": [
    {
     "name": "stdout",
     "output_type": "stream",
     "text": [
      "[[100 100 100 100 100]\n",
      " [100 100 100 100 100]\n",
      " [100 100 100 100 100]]\n"
     ]
    }
   ],
   "source": [
    "fullArray=np.full((3,5),100)\n",
    "print(fullArray)"
   ]
  },
  {
   "cell_type": "code",
   "execution_count": null,
   "id": "7c4ed505-2c09-4646-b99c-00447751b5db",
   "metadata": {},
   "outputs": [],
   "source": []
  },
  {
   "cell_type": "code",
   "execution_count": null,
   "id": "26bc6d65-8954-473d-923d-22d3f8f83523",
   "metadata": {},
   "outputs": [],
   "source": []
  },
  {
   "cell_type": "code",
   "execution_count": null,
   "id": "a630808d-0c7d-4b9e-b81c-c64341ac3959",
   "metadata": {},
   "outputs": [],
   "source": []
  },
  {
   "cell_type": "code",
   "execution_count": null,
   "id": "bc7d8ba3-a1e2-4a03-905f-76e9f94b6aea",
   "metadata": {},
   "outputs": [],
   "source": []
  },
  {
   "cell_type": "markdown",
   "id": "dc781709-4c45-41f6-a712-85808aaff86f",
   "metadata": {},
   "source": [
    "# Q2) Create a Numpy array filled with all zeros\n",
    "- Numpy.zeros() method to do this task."
   ]
  },
  {
   "cell_type": "code",
   "execution_count": 5,
   "id": "d4651d87-500e-49b2-946e-96d25762561f",
   "metadata": {},
   "outputs": [
    {
     "name": "stdout",
     "output_type": "stream",
     "text": [
      "[[0 0 0 0]\n",
      " [0 0 0 0]\n",
      " [0 0 0 0]]\n"
     ]
    }
   ],
   "source": [
    "arr=np.zeros((3,4), dtype=\"i\")\n",
    "print(arr)"
   ]
  },
  {
   "cell_type": "markdown",
   "id": "dcad5a68-885c-44af-a080-cf1d6a68151e",
   "metadata": {},
   "source": [
    "# Q3) Create a Numpy array filled with all ones\n",
    "- To create an array filled with all ones, given the shape and type of array we can use numpy.ones() method of NumPy library in Python."
   ]
  },
  {
   "cell_type": "code",
   "execution_count": 9,
   "id": "40657182-19bb-4187-bb62-49d77eba81a7",
   "metadata": {},
   "outputs": [
    {
     "name": "stdout",
     "output_type": "stream",
     "text": [
      "[[1 1 1 1]\n",
      " [1 1 1 1]\n",
      " [1 1 1 1]]\n"
     ]
    }
   ],
   "source": [
    "one=np.ones((3,4),dtype=\"i\")\n",
    "print(one)"
   ]
  },
  {
   "cell_type": "markdown",
   "id": "96b01c77-ccbb-4536-a90a-8fd51768b867",
   "metadata": {},
   "source": [
    "# Q4) Check wheather a Numpy array contains a specified row"
   ]
  },
  {
   "cell_type": "code",
   "execution_count": 13,
   "id": "e2e43b54-6c2c-4123-a9c7-7baced54c661",
   "metadata": {},
   "outputs": [
    {
     "name": "stdout",
     "output_type": "stream",
     "text": [
      "True\n",
      "False\n"
     ]
    }
   ],
   "source": [
    "arr = np.array([[1, 2, 3, 4, 5], \n",
    "                   [6, 7, 8, 9, 10], \n",
    "                   [11, 12, 13, 14, 15], \n",
    "                   [16, 17, 18, 19, 20] \n",
    "                   ]) \n",
    "\n",
    "print([16,17,18,19,20] in arr.tolist())\n",
    "print([16,17,18,-19,20] in arr.tolist())"
   ]
  },
  {
   "cell_type": "markdown",
   "id": "39e40996-4264-44ee-a1a0-62f4c1542e6b",
   "metadata": {},
   "source": [
    "# Q5) How to Remove rows in Numpy array that contains non-numeric values?"
   ]
  },
  {
   "cell_type": "code",
   "execution_count": 18,
   "id": "1680c186-0fef-4f03-830c-4cfa0196999d",
   "metadata": {},
   "outputs": [
    {
     "name": "stdout",
     "output_type": "stream",
     "text": [
      "[[10.5 22.5  3.8]\n",
      " [41.   nan  nan]]\n",
      "[[10.5 22.5  3.8]]\n"
     ]
    }
   ],
   "source": [
    "arr = np.array([[10.5, 22.5, 3.8], \n",
    "                  [41, np.nan, np.nan]]) \n",
    "print(arr)\n",
    "ary=arr[~np.isnan(arr).any(axis=1)]\n",
    "print(ary)"
   ]
  },
  {
   "cell_type": "markdown",
   "id": "cb0da784-fe7b-4578-b19d-b8c4977193dc",
   "metadata": {},
   "source": [
    "# Imp.\n",
    "- Setting the axis=1 when performing an operation on a NumPy array will perform the operation row-wise, that is across all columns for each row"
   ]
  },
  {
   "cell_type": "code",
   "execution_count": 22,
   "id": "5e6e0562-1980-4921-8b51-dd3d2271d843",
   "metadata": {},
   "outputs": [
    {
     "name": "stdout",
     "output_type": "stream",
     "text": [
      "[[10.5  22.5   3.8 ]\n",
      " [23.45 50.   78.7 ]\n",
      " [41.     nan   nan]]\n",
      "\n",
      "[[10.5  22.5   3.8 ]\n",
      " [23.45 50.   78.7 ]]\n"
     ]
    }
   ],
   "source": [
    "arr2 = np.array([[10.5, 22.5, 3.8],  \n",
    "                  [23.45, 50, 78.7], \n",
    "                  [41, np.nan, np.nan]]) \n",
    "\n",
    "print(arr2)\n",
    "print()\n",
    "ary=arr2[~np.isnan(arr2).any(axis=1)]\n",
    "print(ary)"
   ]
  },
  {
   "cell_type": "code",
   "execution_count": 27,
   "id": "75d9d224-6534-4da3-aca2-31c31a4d9404",
   "metadata": {},
   "outputs": [
    {
     "name": "stdout",
     "output_type": "stream",
     "text": [
      "[[10.5  22.5   3.8   5.  ]\n",
      " [23.45 50.   78.7   3.5 ]\n",
      " [41.     nan   nan  0.  ]\n",
      " [20.   50.2    nan  2.5 ]\n",
      " [18.8  50.6   8.8  58.6 ]]\n",
      "\n",
      "[[10.5  22.5   3.8   5.  ]\n",
      " [23.45 50.   78.7   3.5 ]\n",
      " [18.8  50.6   8.8  58.6 ]]\n"
     ]
    }
   ],
   "source": [
    "arr3 = np.array([[10.5, 22.5, 3.8, 5], \n",
    "                  [23.45, 50, 78.7, 3.5], \n",
    "                  [41, np.nan, np.nan, 0], \n",
    "                  [20, 50.20, np.nan, 2.5], \n",
    "                  [18.8, 50.60, 8.8, 58.6]]) \n",
    "\n",
    "print(arr3)\n",
    "print()\n",
    "ary=arr3[~np.isnan(arr3).any(axis=1)]\n",
    "print(ary)"
   ]
  },
  {
   "cell_type": "markdown",
   "id": "5377be1e-04da-40d9-9eac-84cbf87a11ce",
   "metadata": {},
   "source": [
    "# Q6) Remove single-dimensional entries from the shape of an array\n",
    "- numpy.squeeze() function is used when we want to remove single-dimensional entries from the shape of an array."
   ]
  },
  {
   "cell_type": "code",
   "execution_count": 37,
   "id": "1b4bbdd6-7b78-49b6-af61-be34c9eb07a4",
   "metadata": {},
   "outputs": [
    {
     "name": "stdout",
     "output_type": "stream",
     "text": [
      "[[[2 2 2]\n",
      "  [2 2 2]]]\n",
      "3\n",
      "Shape= (1, 2, 3)\n",
      "\n",
      "[[2 2 2]\n",
      " [2 2 2]]\n",
      "2\n",
      "Shape= (2, 3)\n"
     ]
    }
   ],
   "source": [
    "arr=np.array([[[2,2,2],[2,2,2]]])\n",
    "print(arr)\n",
    "print(arr.ndim)\n",
    "print(\"Shape=\",arr.shape)\n",
    "print()\n",
    "\n",
    "arr=np.squeeze(arr)\n",
    "\n",
    "print(arr)\n",
    "print(arr.ndim)\n",
    "print(\"Shape=\",arr.shape)"
   ]
  },
  {
   "cell_type": "markdown",
   "id": "4973ca1c-1d74-4731-a31d-446fc813434c",
   "metadata": {},
   "source": [
    "# Q7) Find the number of occurrences of a sequence in a NumPy array"
   ]
  },
  {
   "cell_type": "code",
   "execution_count": 52,
   "id": "c714ae28-4dab-465d-a7ba-ecdcf17f53f3",
   "metadata": {},
   "outputs": [
    {
     "name": "stdout",
     "output_type": "stream",
     "text": [
      "4\n"
     ]
    }
   ],
   "source": [
    "arr = np.array([[2,8,9,4],  \n",
    "                   [9,4,9,4], \n",
    "                   [4,5,9,7], \n",
    "                   [2,9,4,3]]) \n",
    "out=repr(arr).count(\"9, 4\")\n",
    "print(out)"
   ]
  },
  {
   "cell_type": "markdown",
   "id": "5ba16af7-5aec-4a2e-b32a-cec8d6bf7d02",
   "metadata": {},
   "source": [
    "Q8)Find the most frequent value in a NumPy array\n",
    "--"
   ]
  },
  {
   "cell_type": "markdown",
   "id": "0076812a-6032-4bd5-8c57-8fb133d7c64b",
   "metadata": {},
   "source": [
    "# Single most frequent value"
   ]
  },
  {
   "cell_type": "code",
   "execution_count": 63,
   "id": "ecb1db4f-4dae-4013-9034-0b3b8c501527",
   "metadata": {},
   "outputs": [
    {
     "name": "stdout",
     "output_type": "stream",
     "text": [
      "[ 1  2  3  4  5  1  2  1  1  1 10 10 10 10 10]\n",
      "Most frequent value 1\n"
     ]
    }
   ],
   "source": [
    "\n",
    "x=np.array([1,2,3,4,5,1,2,1,1,1,10,10,10,10,10])\n",
    "print(x)\n",
    "print(\"Most frequent value\",np.bincount(x).argmax())"
   ]
  },
  {
   "cell_type": "markdown",
   "id": "457f53fe-62fc-475d-99d2-3022ad963eb5",
   "metadata": {},
   "source": [
    "# Multiple most frequent value"
   ]
  },
  {
   "cell_type": "code",
   "execution_count": 71,
   "id": "400965e4-33d8-4f4f-bf33-04be4eb39f50",
   "metadata": {},
   "outputs": [
    {
     "name": "stdout",
     "output_type": "stream",
     "text": [
      "[0 5 2 1 1 1 0 0 0 0 5 0 0 0 0 0 0 0 0 0 0 0 0 0 0 0 0 0 0 0 0 0 0 0 0 0 0\n",
      " 0 0 0 0 0 0 0 0 0 0 0 0 0 0 0 0 0 0 0 0 0 0 0 0 0 0 0 0 0 0 0 0 0 0 0 0 0\n",
      " 0 0 0 0 0 0 0 0 0 0 0 0 0 0 0 0 0 0 0 0 0 0 0 0 0 0 1]\n",
      "1 10 "
     ]
    }
   ],
   "source": [
    "x=np.array([1,2,3,4,5,1,2,1,1,1,10,10,10,10,10,100])\n",
    "y=np.bincount(x)\n",
    "print(y)\n",
    "maxi=max(y)\n",
    "\n",
    "for i in range(len(y)):\n",
    "    if y[i]==maxi:\n",
    "        print(i,end=\" \")"
   ]
  },
  {
   "cell_type": "code",
   "execution_count": null,
   "id": "9d848b8d-fa40-43bc-9e2b-7756381f0c3c",
   "metadata": {},
   "outputs": [],
   "source": []
  },
  {
   "cell_type": "markdown",
   "id": "1fb006b3-a7ba-4543-ac14-a3fd4644a460",
   "metadata": {},
   "source": [
    "# Q9) Combining a one and a two-dimensional NumPy Array"
   ]
  },
  {
   "cell_type": "code",
   "execution_count": 81,
   "id": "656825f7-b8b4-4d44-af8f-23730f48be29",
   "metadata": {},
   "outputs": [
    {
     "name": "stdout",
     "output_type": "stream",
     "text": [
      "[0 1 2 3 4]\n",
      "\n",
      "[[0 1 2 3 4]\n",
      " [5 6 7 8 9]]\n",
      "\n",
      "0 : 0\n",
      "1 : 1\n",
      "2 : 2\n",
      "3 : 3\n",
      "4 : 4\n",
      "0 : 5\n",
      "1 : 6\n",
      "2 : 7\n",
      "3 : 8\n",
      "4 : 9\n"
     ]
    }
   ],
   "source": [
    "arr1=np.arange(5)\n",
    "print(arr_1)\n",
    "print()\n",
    "arr2=np.arange(10).reshape(2,5)\n",
    "print(arr2)\n",
    "print()\n",
    "\n",
    "for a,b in np.nditer([arr1,arr2]):\n",
    "    print(a,\":\",b)"
   ]
  },
  {
   "cell_type": "markdown",
   "id": "e1a56110-9e4f-4094-933a-170c07ee40f7",
   "metadata": {},
   "source": [
    "# Q10) How to build an array of all combinations of two NumPy arrays?"
   ]
  },
  {
   "cell_type": "code",
   "execution_count": 92,
   "id": "c3a3a9eb-a229-4fa2-95fd-d42c4d72f42e",
   "metadata": {},
   "outputs": [
    {
     "name": "stdout",
     "output_type": "stream",
     "text": [
      "[[1 6 1]\n",
      " [7 1 8]\n",
      " [2 6 2]\n",
      " [7 2 8]\n",
      " [3 6 3]\n",
      " [7 3 8]]\n"
     ]
    }
   ],
   "source": [
    "arr1=np.array([1,2,3])\n",
    "arr2=np.array([6,7,8])\n",
    "combine=np.array(np.meshgrid(arr1,arr2)).T.reshape(-1,3)\n",
    "print(combine)"
   ]
  },
  {
   "cell_type": "markdown",
   "id": "f91695aa-a1c8-4c92-87ba-85f0d83ff71a",
   "metadata": {},
   "source": [
    "# Q11) How to add a border around a NumPy array?\n",
    "- Sometimes we need to add a border around a NumPy matrix. Numpy provides a function known as ‘numpy.pad()’ to construct the border. The below examples show how to construct a border of ‘0’ around the identity matrix."
   ]
  },
  {
   "cell_type": "code",
   "execution_count": 104,
   "id": "22d942fc-9f4c-459a-89f3-71654839f184",
   "metadata": {},
   "outputs": [
    {
     "name": "stdout",
     "output_type": "stream",
     "text": [
      "[[1 1]\n",
      " [1 1]]\n",
      "\n",
      "[[99 99 99 99]\n",
      " [99  1  1 99]\n",
      " [99  1  1 99]\n",
      " [99 99 99 99]]\n"
     ]
    }
   ],
   "source": [
    "arr=np.ones((2,2),dtype=\"i\")\n",
    "print(arr)\n",
    "print()\n",
    "arr=np.pad(arr,pad_width=1,mode='constant',constant_values=99)\n",
    "print(arr)"
   ]
  },
  {
   "cell_type": "code",
   "execution_count": 111,
   "id": "1e145793-b88e-4e09-bcba-7f5c3ba2a9ed",
   "metadata": {},
   "outputs": [
    {
     "name": "stdout",
     "output_type": "stream",
     "text": [
      "[[0 0 0 0]\n",
      " [0 0 0 0]\n",
      " [0 0 0 0]]\n",
      "\n",
      "[[1 1 1 1 1 1]\n",
      " [1 0 0 0 0 1]\n",
      " [1 0 0 0 0 1]\n",
      " [1 0 0 0 0 1]\n",
      " [1 1 1 1 1 1]]\n"
     ]
    }
   ],
   "source": [
    "arr=np.zeros((3,4),dtype=\"i\")\n",
    "print(arr)\n",
    "print()\n",
    "arr=np.pad(arr,pad_width=1,mode=\"constant\", constant_values=1)\n",
    "print(arr)"
   ]
  },
  {
   "cell_type": "markdown",
   "id": "96582fde-d175-49f0-82f9-c89ca3d21128",
   "metadata": {},
   "source": [
    "# Q12) How to compare two NumPy arrays?"
   ]
  },
  {
   "cell_type": "code",
   "execution_count": 119,
   "id": "955cb459-78f7-44d7-84a7-a5a3d9a9c697",
   "metadata": {},
   "outputs": [
    {
     "name": "stdout",
     "output_type": "stream",
     "text": [
      "[[ True  True]\n",
      " [ True  True]]\n",
      "True\n"
     ]
    }
   ],
   "source": [
    "arr1=np.array([[1,2],[3,4]])\n",
    "arr2=np.array([[1,2],[3,4]])\n",
    "comparison=arr1==arr2\n",
    "print(comparison)\n",
    "equal=comparison.all()\n",
    "print(equal)"
   ]
  },
  {
   "cell_type": "code",
   "execution_count": null,
   "id": "95bb36f6-1bbb-4a8f-8ce7-80430af1a67b",
   "metadata": {},
   "outputs": [],
   "source": []
  }
 ],
 "metadata": {
  "kernelspec": {
   "display_name": "Python 3 (ipykernel)",
   "language": "python",
   "name": "python3"
  },
  "language_info": {
   "codemirror_mode": {
    "name": "ipython",
    "version": 3
   },
   "file_extension": ".py",
   "mimetype": "text/x-python",
   "name": "python",
   "nbconvert_exporter": "python",
   "pygments_lexer": "ipython3",
   "version": "3.11.5"
  }
 },
 "nbformat": 4,
 "nbformat_minor": 5
}
